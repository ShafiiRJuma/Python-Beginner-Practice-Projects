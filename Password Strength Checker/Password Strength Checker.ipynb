{
 "cells": [
  {
   "cell_type": "code",
   "execution_count": null,
   "id": "5fabced0-71ba-488d-ab60-de966700809c",
   "metadata": {},
   "outputs": [],
   "source": [
    "import re\n",
    "\n",
    "def password_strength_checker(password):\n",
    "    if len(password) < 8:\n",
    "        return \"Weak\"\n",
    "\n",
    "    if re.search(r\"[A-Za-z]\",password) and re.search(r\"[0-9]\",password):\n",
    "        if re.search(r\"[!@#$%^&*()_+={}:?/<>]\",password):\n",
    "            return \"Strong\"\n",
    "        else:\n",
    "            return \"Medium\"\n",
    "    else:\n",
    "        return \"Weak\"\n",
    "\n",
    "while True:\n",
    "    pwd = input('Enter your password to check for strength or exit to leave the program')\n",
    "    if pwd.lower() == 'exit':\n",
    "        print('Thanks for using this Program, you are now exiting.....')\n",
    "        break\n",
    "\n",
    "    else:\n",
    "        strength = password_strength_checker(pwd)\n",
    "        print(f\"Your password {pwd} has a {strength} strength\")"
   ]
  },
  {
   "cell_type": "code",
   "execution_count": null,
   "id": "89fb8962-04c9-403b-a865-0377a18805f6",
   "metadata": {},
   "outputs": [],
   "source": []
  }
 ],
 "metadata": {
  "kernelspec": {
   "display_name": "anaconda-2024.02-py310",
   "language": "python",
   "name": "conda-env-anaconda-2024.02-py310-py"
  },
  "language_info": {
   "codemirror_mode": {
    "name": "ipython",
    "version": 3
   },
   "file_extension": ".py",
   "mimetype": "text/x-python",
   "name": "python",
   "nbconvert_exporter": "python",
   "pygments_lexer": "ipython3",
   "version": "3.10.14"
  }
 },
 "nbformat": 4,
 "nbformat_minor": 5
}
