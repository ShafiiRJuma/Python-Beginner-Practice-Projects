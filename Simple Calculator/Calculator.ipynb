{
 "cells": [
  {
   "cell_type": "code",
   "execution_count": null,
   "id": "1001f431-8b3b-45c8-bb64-ee30b9abf9fb",
   "metadata": {},
   "outputs": [
    {
     "name": "stdout",
     "output_type": "stream",
     "text": [
      "Welcome to python Calculator\n",
      "\n",
      " choose an operation\n",
      "1 for addition\n",
      "2 for multiplication\n",
      "3 for substraction\n",
      "4 for division\n",
      "5 to exit\n"
     ]
    }
   ],
   "source": [
    "#Create a function for each operation\n",
    "\n",
    "def add(a,b):\n",
    "    return a+b\n",
    "\n",
    "def multiply(a,b):\n",
    "    return a*b\n",
    "\n",
    "def minus(a,b):\n",
    "    return a-b\n",
    "\n",
    "def divide(a,b):\n",
    "    if b== 0:\n",
    "        print('Can not divide by zero')\n",
    "    return a/b\n",
    "\n",
    "#Create a calculator function\n",
    "\n",
    "def calculator():\n",
    "    print('Welcome to python Calculator')\n",
    "    while True:\n",
    "        print('\\n choose an operation')\n",
    "        print('1 for addition')\n",
    "        print('2 for multiplication')\n",
    "        print('3 for substraction')\n",
    "        print('4 for division')\n",
    "        print('5 to exit')\n",
    "\n",
    "        choice = input('Enter your choice: ')\n",
    "        \n",
    "        if choice == '5':\n",
    "            print('Exiting calculator, goodbye')\n",
    "            break\n",
    "            \n",
    "        elif choice not in ['1','2','3','4']:\n",
    "            print('Wrong choice, choose another')\n",
    "            continue\n",
    "\n",
    "        try:\n",
    "            num1 = float(input('Enter your first number: '))\n",
    "            num2 = float(input('Enter your second number: '))\n",
    "        except ValueError:\n",
    "            print('Wrong input, try another number: ')\n",
    "            continue\n",
    "\n",
    "        if choice == '1':\n",
    "            result = add(num1,num2)\n",
    "\n",
    "        elif choice =='2':\n",
    "            result = multiply(num1,num2)\n",
    "\n",
    "        elif choice == '3':\n",
    "            result = minus(num1,num2)\n",
    "\n",
    "        elif choice == '4':\n",
    "            result = divide(num1,num2)\n",
    "\n",
    "        print(f\"Result {result}\")\n",
    "                         \n",
    "\n",
    "calculator()\n",
    "    "
   ]
  },
  {
   "cell_type": "code",
   "execution_count": null,
   "id": "de36ae3c-0cf1-4c0f-bbe5-4b5cb9d31390",
   "metadata": {},
   "outputs": [],
   "source": []
  }
 ],
 "metadata": {
  "kernelspec": {
   "display_name": "anaconda-panel-2023.05-py310",
   "language": "python",
   "name": "conda-env-anaconda-panel-2023.05-py310-py"
  },
  "language_info": {
   "codemirror_mode": {
    "name": "ipython",
    "version": 3
   },
   "file_extension": ".py",
   "mimetype": "text/x-python",
   "name": "python",
   "nbconvert_exporter": "python",
   "pygments_lexer": "ipython3",
   "version": "3.11.5"
  }
 },
 "nbformat": 4,
 "nbformat_minor": 5
}
