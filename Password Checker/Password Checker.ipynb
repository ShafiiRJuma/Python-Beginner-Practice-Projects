{
 "cells": [
  {
   "cell_type": "markdown",
   "id": "61b6c109-01bd-4a46-9a92-f1e6898e002e",
   "metadata": {},
   "source": [
    "## Mini Project 1: Password Checker"
   ]
  },
  {
   "cell_type": "markdown",
   "id": "72b98ff6-ca0a-4dc9-9633-10c534812056",
   "metadata": {},
   "source": [
    "### Introduction"
   ]
  },
  {
   "cell_type": "markdown",
   "id": "8fd536a6-4175-467c-931d-6db15e982543",
   "metadata": {},
   "source": [
    "Goal: Ask users to input ther username and password, check if they match stored users, and grant access if password is correct.\n"
   ]
  },
  {
   "cell_type": "markdown",
   "id": "c6363ab8-3c8c-40bc-bdae-71b11165129e",
   "metadata": {},
   "source": [
    "### Step By Step Plan"
   ]
  },
  {
   "cell_type": "markdown",
   "id": "37086fa1-3250-4f58-b38a-ce0efd0c6313",
   "metadata": {},
   "source": [
    "1. Store username and passwords in a dictionary\n",
    "2. Use password masking when a user input password\n",
    "3. Limit number of password attempt to 3\n",
    "4. Use if statement to check if username and password matches\n",
    "5. Print Access Granted or Access denied."
   ]
  },
  {
   "cell_type": "markdown",
   "id": "3b80b1bd-94b3-4dff-a047-988aa28d082d",
   "metadata": {},
   "source": [
    "### Code"
   ]
  },
  {
   "cell_type": "code",
   "execution_count": 9,
   "id": "ef866d1c-1060-4c81-9246-bb3987c94174",
   "metadata": {},
   "outputs": [
    {
     "name": "stdin",
     "output_type": "stream",
     "text": [
      "Type username:  admin\n",
      "Enter your password:  ········\n"
     ]
    },
    {
     "name": "stdout",
     "output_type": "stream",
     "text": [
      "Access granted, Welcome admin\n"
     ]
    }
   ],
   "source": [
    "import getpass\n",
    "\n",
    "#getpass will hide password when it's written\n",
    "\n",
    "#dictionary of users and their password\n",
    "users = {\n",
    "    \"admin\": \"admin123\",\n",
    "    \"alice\": \"alicepass\",\n",
    "    \"bob\": \"bobsecure\",\n",
    "    \"charlie\": \"charlie789\",\n",
    "    \"diana\": \"diana456\",\n",
    "    \"eve\": \"eve321\",\n",
    "    \"frank\": \"frank007\",\n",
    "    \"grace\": \"gracepass\",\n",
    "    \"henry\": \"henrykey\",\n",
    "    \"ivy\": \"ivystrong\"\n",
    "}\n",
    "\n",
    "username = input('Type username: ')\n",
    "\n",
    "if username in users:\n",
    "\n",
    "#maximum password attempts\n",
    "    attempts = 0\n",
    "    max_attempts = 3\n",
    "    while attempts < max_attempts:\n",
    "        password = getpass.getpass('Enter your password: ')\n",
    "\n",
    "#check if password matches the entered user password\n",
    "        if password == users[username]:\n",
    "            print(f\"Access granted, Welcome {username}\")\n",
    "            break\n",
    "        else:\n",
    "            print('Wrong password try again')\n",
    "            attempts +=1\n",
    "\n",
    "#check number of failed attempts\n",
    "    if attempts == max_attempts:\n",
    "        print('Too many failed attempts')\n",
    "        \n",
    "else:\n",
    "    print(\"Can't find user in the system\")"
   ]
  },
  {
   "cell_type": "code",
   "execution_count": null,
   "id": "dedf663c-af7e-4481-ba25-bbc5e3195f36",
   "metadata": {},
   "outputs": [],
   "source": []
  }
 ],
 "metadata": {
  "kernelspec": {
   "display_name": "anaconda-2024.02-py310",
   "language": "python",
   "name": "conda-env-anaconda-2024.02-py310-py"
  },
  "language_info": {
   "codemirror_mode": {
    "name": "ipython",
    "version": 3
   },
   "file_extension": ".py",
   "mimetype": "text/x-python",
   "name": "python",
   "nbconvert_exporter": "python",
   "pygments_lexer": "ipython3",
   "version": "3.10.14"
  }
 },
 "nbformat": 4,
 "nbformat_minor": 5
}
