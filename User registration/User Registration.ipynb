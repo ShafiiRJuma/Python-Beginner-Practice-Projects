{
 "cells": [
  {
   "cell_type": "markdown",
   "id": "99469bc6-ac76-4961-a113-0c92b5e7bd33",
   "metadata": {},
   "source": [
    "## User Registration Mini Project"
   ]
  },
  {
   "cell_type": "markdown",
   "id": "eea3f502-0ab9-4755-8687-b2449489397f",
   "metadata": {},
   "source": [
    "Here is what the program will do:\n",
    "1. Ask for username, and match it with the stored usernames if its taken user will be alerted and asked to enter another username\n",
    "2. Ask for user email for registration\n",
    "3. Ask for user pasword, and check for the password strength if the password is not stronger user will be asked to enter a strong password.\n",
    "4. Username, email, and password will be saved in the dictionary of users."
   ]
  },
  {
   "cell_type": "markdown",
   "id": "3b1fcc81-c2f2-4a9f-a4f0-cfade8af0e50",
   "metadata": {},
   "source": [
    "### Code"
   ]
  },
  {
   "cell_type": "code",
   "execution_count": 10,
   "id": "b8a61188-f0f6-4dc8-a5c9-9a365b0f37c9",
   "metadata": {},
   "outputs": [
    {
     "name": "stdout",
     "output_type": "stream",
     "text": [
      "Welcome to the user registration system.\n"
     ]
    },
    {
     "name": "stdin",
     "output_type": "stream",
     "text": [
      "Enter username here:  shafii\n",
      "Enter your email address here:  john.doe@gmail.com\n",
      "Enter your password here:  qwertyui98-;\n"
     ]
    },
    {
     "name": "stdout",
     "output_type": "stream",
     "text": [
      "Weak password. A strong password must include at least Upper and lower case, number and special character\n"
     ]
    },
    {
     "name": "stdin",
     "output_type": "stream",
     "text": [
      "Enter your password here:  QEqwerty1234<>\n",
      "Confirm your password QEqwerty1234<>\n"
     ]
    },
    {
     "name": "stdout",
     "output_type": "stream",
     "text": [
      "shafii registered successfully!\n"
     ]
    },
    {
     "name": "stdin",
     "output_type": "stream",
     "text": [
      "Register another user? Yes or No no\n"
     ]
    },
    {
     "name": "stdout",
     "output_type": "stream",
     "text": [
      "Registered users\n",
      "shafii - john.doe@gmail.com\n"
     ]
    }
   ],
   "source": [
    "import re\n",
    "\n",
    "#dictionary to store registered users\n",
    "\n",
    "users = {}\n",
    "print('Welcome to the user registration system.')\n",
    "\n",
    "#get and validate username\n",
    "def get_username():\n",
    "    while True:\n",
    "        username = input('Enter username here: ').strip()\n",
    "\n",
    "        #check format\n",
    "        if not re.fullmatch(r\"^[A-Za-z0-9_]+$\", username):\n",
    "            print('Username can only be letter, numbers, and underscore')\n",
    "            continue\n",
    "            \n",
    "        #check if username is unique\n",
    "        if username in users:\n",
    "            print('Username is already taken, enter another username')\n",
    "        else:\n",
    "            return username\n",
    "\n",
    "#get and validate email\n",
    "def get_email():\n",
    "    while True:\n",
    "        email = input('Enter your email address here: ').strip()\n",
    "\n",
    "        #check format\n",
    "        if not re.fullmatch(r\"^[\\w\\.-]+@[\\w\\.-]+\\.\\w+$\",email):\n",
    "            print('Email is incorrect, enter a valid email')\n",
    "        else:\n",
    "            return email\n",
    "\n",
    "#get and validate password\n",
    "def get_password():\n",
    "    while True:\n",
    "        password = input('Enter your password here: ').strip()\n",
    "\n",
    "        if (len(password) < 8 or \n",
    "        not re.search(r\"[A-Z]\",password) or \n",
    "        not re.search(r\"[a-z]\",password) or \n",
    "        not re.search(r\"[0-9]\",password) or \n",
    "        not re.search(r\"[!@#$%^&*()_?><]\",password)):\n",
    "            print('Weak password. A strong password must include at least Upper and lower case, number and special character')\n",
    "            continue\n",
    "\n",
    "        #confirm password\n",
    "        confirm = input('Confirm your password')\n",
    "        if password != confirm:\n",
    "            print('Password does not match. Try again')\n",
    "        else:\n",
    "            return password\n",
    "\n",
    "#register user program\n",
    "def register_user():\n",
    "    username = get_username()\n",
    "    email = get_email()\n",
    "    password = get_password()\n",
    "\n",
    "    users[username] = {\"email\":email,\"password\":password}\n",
    "    print(f\"{username} registered successfully!\")\n",
    "\n",
    "\n",
    "#Main program\n",
    "while True:\n",
    "    register_user()\n",
    "    again = input('Register another user? Yes or No').strip().lower()\n",
    "\n",
    "    if again != 'yes':\n",
    "        break\n",
    "\n",
    "print('Registered users')\n",
    "for user, data in users.items():\n",
    "    print(f\"{user} - {data['email']}\")"
   ]
  },
  {
   "cell_type": "code",
   "execution_count": null,
   "id": "482f44ff-b9ba-4d25-ac26-4bfcff24e4b7",
   "metadata": {},
   "outputs": [],
   "source": []
  }
 ],
 "metadata": {
  "kernelspec": {
   "display_name": "anaconda-2024.02-py310",
   "language": "python",
   "name": "conda-env-anaconda-2024.02-py310-py"
  },
  "language_info": {
   "codemirror_mode": {
    "name": "ipython",
    "version": 3
   },
   "file_extension": ".py",
   "mimetype": "text/x-python",
   "name": "python",
   "nbconvert_exporter": "python",
   "pygments_lexer": "ipython3",
   "version": "3.10.14"
  }
 },
 "nbformat": 4,
 "nbformat_minor": 5
}
