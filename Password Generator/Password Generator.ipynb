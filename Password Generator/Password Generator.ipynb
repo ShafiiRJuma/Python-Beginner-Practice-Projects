{
 "cells": [
  {
   "cell_type": "markdown",
   "id": "35ed3462-0192-416b-8dad-eb4e0ebd5b59",
   "metadata": {},
   "source": [
    "## Password Generator"
   ]
  },
  {
   "cell_type": "code",
   "execution_count": 3,
   "id": "02d41f77-d388-44be-9c1c-0f27c230c2bb",
   "metadata": {},
   "outputs": [
    {
     "name": "stdin",
     "output_type": "stream",
     "text": [
      "Enter password length q\n"
     ]
    },
    {
     "name": "stdout",
     "output_type": "stream",
     "text": [
      "Enter a valid number\n"
     ]
    },
    {
     "name": "stdin",
     "output_type": "stream",
     "text": [
      "Enter password length 17\n"
     ]
    },
    {
     "name": "stdout",
     "output_type": "stream",
     "text": [
      "Generated password GIzh7YYsbt?@tXFU8\n"
     ]
    }
   ],
   "source": [
    "import random\n",
    "import string\n",
    "\n",
    "uppercase = string.ascii_uppercase\n",
    "lowercase = string.ascii_lowercase\n",
    "digits = string.digits\n",
    "symbols = \"!@#$%^&*()_+:<>?\"\n",
    "\n",
    "while True:\n",
    "    try:\n",
    "        length = int(input('Enter password length'))\n",
    "        if length < 8:\n",
    "            print('Password must contain 8 characters')\n",
    "        else:\n",
    "            break\n",
    "    except ValueError:\n",
    "        print('Enter a valid number')\n",
    "\n",
    "all_chars = uppercase + lowercase + digits + symbols\n",
    "\n",
    "password = [random.choice(uppercase),random.choice(lowercase),random.choice(digits),random.choice(symbols)]\n",
    "\n",
    "while len(password) < length:\n",
    "    password.append(random.choice(all_chars))\n",
    "\n",
    "random.shuffle(password)\n",
    "\n",
    "final_password = ''.join(password)\n",
    "print('Generated password',final_password)"
   ]
  },
  {
   "cell_type": "code",
   "execution_count": null,
   "id": "7c37ce72-541e-4895-b177-04a567cac2f2",
   "metadata": {},
   "outputs": [],
   "source": []
  }
 ],
 "metadata": {
  "kernelspec": {
   "display_name": "anaconda-panel-2023.05-py310",
   "language": "python",
   "name": "conda-env-anaconda-panel-2023.05-py310-py"
  },
  "language_info": {
   "codemirror_mode": {
    "name": "ipython",
    "version": 3
   },
   "file_extension": ".py",
   "mimetype": "text/x-python",
   "name": "python",
   "nbconvert_exporter": "python",
   "pygments_lexer": "ipython3",
   "version": "3.11.5"
  }
 },
 "nbformat": 4,
 "nbformat_minor": 5
}
