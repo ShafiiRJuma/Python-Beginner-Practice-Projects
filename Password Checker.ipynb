{
 "cells": [
  {
   "cell_type": "markdown",
   "id": "61b6c109-01bd-4a46-9a92-f1e6898e002e",
   "metadata": {},
   "source": [
    "## Mini Project 1: Password Checker"
   ]
  },
  {
   "cell_type": "markdown",
   "id": "72b98ff6-ca0a-4dc9-9633-10c534812056",
   "metadata": {},
   "source": [
    "### Introduction"
   ]
  },
  {
   "cell_type": "markdown",
   "id": "8fd536a6-4175-467c-931d-6db15e982543",
   "metadata": {},
   "source": [
    "Goal: Ask users to input ther username and password, check if they match stored users, and grant access if password is correct"
   ]
  },
  {
   "cell_type": "code",
   "execution_count": null,
   "id": "7cfd008c-8711-4c0f-95f8-0210913696a2",
   "metadata": {},
   "outputs": [],
   "source": []
  }
 ],
 "metadata": {
  "kernelspec": {
   "display_name": "anaconda-2024.02-py310",
   "language": "python",
   "name": "conda-env-anaconda-2024.02-py310-py"
  },
  "language_info": {
   "codemirror_mode": {
    "name": "ipython",
    "version": 3
   },
   "file_extension": ".py",
   "mimetype": "text/x-python",
   "name": "python",
   "nbconvert_exporter": "python",
   "pygments_lexer": "ipython3",
   "version": "3.10.14"
  }
 },
 "nbformat": 4,
 "nbformat_minor": 5
}
